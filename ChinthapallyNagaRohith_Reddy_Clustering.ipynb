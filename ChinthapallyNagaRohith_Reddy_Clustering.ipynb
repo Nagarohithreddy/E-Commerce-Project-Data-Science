{
 "cells": [
  {
   "cell_type": "markdown",
   "id": "bda04875-6685-4dc9-bcda-8b2c5cafe04e",
   "metadata": {},
   "source": [
    "# Task - 3 Customer Segmentation / Clustering"
   ]
  },
  {
   "cell_type": "code",
   "execution_count": 5,
   "id": "f5ec5de7-9497-457f-b152-eded0088f0bd",
   "metadata": {},
   "outputs": [
    {
     "ename": "ModuleNotFoundError",
     "evalue": "No module named 'pandas'",
     "output_type": "error",
     "traceback": [
      "\u001b[1;31m---------------------------------------------------------------------------\u001b[0m",
      "\u001b[1;31mModuleNotFoundError\u001b[0m                       Traceback (most recent call last)",
      "Cell \u001b[1;32mIn[5], line 1\u001b[0m\n\u001b[1;32m----> 1\u001b[0m \u001b[38;5;28;01mimport\u001b[39;00m\u001b[38;5;250m \u001b[39m\u001b[38;5;21;01mpandas\u001b[39;00m\u001b[38;5;250m \u001b[39m\u001b[38;5;28;01mas\u001b[39;00m\u001b[38;5;250m \u001b[39m\u001b[38;5;21;01mpd\u001b[39;00m\n\u001b[0;32m      2\u001b[0m \u001b[38;5;28;01mfrom\u001b[39;00m\u001b[38;5;250m \u001b[39m\u001b[38;5;21;01msklearn\u001b[39;00m\u001b[38;5;21;01m.\u001b[39;00m\u001b[38;5;21;01mcluster\u001b[39;00m\u001b[38;5;250m \u001b[39m\u001b[38;5;28;01mimport\u001b[39;00m KMeans\n\u001b[0;32m      3\u001b[0m \u001b[38;5;28;01mfrom\u001b[39;00m\u001b[38;5;250m \u001b[39m\u001b[38;5;21;01msklearn\u001b[39;00m\u001b[38;5;21;01m.\u001b[39;00m\u001b[38;5;21;01mmetrics\u001b[39;00m\u001b[38;5;250m \u001b[39m\u001b[38;5;28;01mimport\u001b[39;00m davies_bouldin_score\n",
      "\u001b[1;31mModuleNotFoundError\u001b[0m: No module named 'pandas'"
     ]
    }
   ],
   "source": [
    "import pandas as pd\n",
    "from sklearn.cluster import KMeans\n",
    "from sklearn.metrics import davies_bouldin_score\n",
    "from sklearn.decomposition import PCA\n",
    "from sklearn.preprocessing import StandardScaler\n",
    "import matplotlib.pyplot as plt\n",
    "import seaborn as sns\n",
    "\n",
    "data = {\n",
    "    \"CustomerID\": [f\"C{str(i).zfill(4)}\" for i in range(1, 21)],\n",
    "    \"TotalSpent\": [500 + i * 10 for i in range(20)],\n",
    "    \"TotalQuantity\": [50 + i * 5 for i in range(20)],\n",
    "    \"TransactionCount\": [5 + i for i in range(20)],\n",
    "}\n",
    "customer_profiles = pd.DataFrame(data)\n",
    "\n",
    "# Step 1: Preparing Data for Clustering\n",
    "clustering_data = customer_profiles[[\"TotalSpent\", \"TotalQuantity\", \"TransactionCount\"]]\n",
    "\n",
    "# Step 2: Scaling the Features\n",
    "scaler = StandardScaler()\n",
    "scaled_clustering_data = scaler.fit_transform(clustering_data)\n",
    "\n",
    "# Step 3: Finding the Optimal Number of Clusters  using Elbow Method\n",
    "inertia = []\n",
    "for k in range(2, 11):\n",
    "    kmeans = KMeans(n_clusters=k, random_state=42, n_init=\"auto\")\n",
    "    kmeans.fit(scaled_clustering_data)\n",
    "    inertia.append(kmeans.inertia_)\n",
    "\n",
    "# Elbow Plot to determine the optimal number of clusters\n",
    "plt.figure(figsize=(8, 5))\n",
    "plt.plot(range(2, 11), inertia, marker=\"o\")\n",
    "plt.title(\"Elbow Method for Optimal Clusters\")\n",
    "plt.xlabel(\"Number of Clusters\")\n",
    "plt.ylabel(\"Inertia\")\n",
    "plt.tight_layout()\n",
    "plt.show()\n",
    "\n",
    "# Step 4: Applying K-Means Clustering (Using 4 clusters as an example)\n",
    "optimal_clusters = 4\n",
    "kmeans = KMeans(n_clusters=optimal_clusters, random_state=42, n_init=\"auto\")\n",
    "clusters = kmeans.fit_predict(scaled_clustering_data)\n",
    "customer_profiles[\"Cluster\"] = clusters\n",
    "\n",
    "# Step 5: Evaluating Clustering with Davies-Bouldin Index\n",
    "db_index = davies_bouldin_score(scaled_clustering_data, clusters)\n",
    "print(f\"Davies-Bouldin Index: {db_index}\")\n",
    "\n",
    "# Step 6: Visualizing Clusters using PCA\n",
    "pca = PCA(n_components=2)\n",
    "pca_result = pca.fit_transform(scaled_clustering_data)\n",
    "customer_profiles[\"PCA1\"] = pca_result[:, 0]\n",
    "customer_profiles[\"PCA2\"] = pca_result[:, 1]\n",
    "\n",
    "plt.figure(figsize=(10, 6))\n",
    "sns.scatterplot(\n",
    "    x=\"PCA1\", y=\"PCA2\", hue=\"Cluster\", data=customer_profiles, palette=\"viridis\", s=100\n",
    ")\n",
    "plt.title(\"Customer Clusters (PCA Visualization)\")\n",
    "plt.xlabel(\"PCA1\")\n",
    "plt.ylabel(\"PCA2\")\n",
    "plt.legend(title=\"Cluster\")\n",
    "plt.tight_layout()\n",
    "plt.show()\n",
    "\n",
    "# Step 7: Save Clustering Results to CSV\n",
    "clustering_results = customer_profiles[[\"CustomerID\", \"Cluster\"]]\n",
    "clustering_results.to_csv(\"Clustering_Results.csv\", index=False)\n",
    "print(\"Clustering results saved to Clustering_Results.csv.\")\n"
   ]
  },
  {
   "cell_type": "code",
   "execution_count": null,
   "id": "372ec4b6-957b-4cd2-b867-1b713e39b590",
   "metadata": {},
   "outputs": [],
   "source": []
  }
 ],
 "metadata": {
  "kernelspec": {
   "display_name": "base",
   "language": "python",
   "name": "python3"
  },
  "language_info": {
   "codemirror_mode": {
    "name": "ipython",
    "version": 3
   },
   "file_extension": ".py",
   "mimetype": "text/x-python",
   "name": "python",
   "nbconvert_exporter": "python",
   "pygments_lexer": "ipython3",
   "version": "3.12.3"
  }
 },
 "nbformat": 4,
 "nbformat_minor": 5
}
